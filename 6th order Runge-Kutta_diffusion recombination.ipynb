{
 "cells": [
  {
   "cell_type": "code",
   "execution_count": 15,
   "metadata": {},
   "outputs": [],
   "source": [
    "# method borrowed from : https://www.ams.org/journals/mcom/1968-22-102/S0025-5718-68-99876-1/S0025-5718-68-99876-1.pdf\n",
    "\n",
    "import numpy as np \n",
    "import matplotlib.pyplot as plt\n",
    "\n",
    "\n",
    "L=1                                                # wall thickness\n",
    "num=100000                                            # number of spatial nodes \n",
    "b = 100\n",
    "#a=0.000000001\n",
    "n0 = 100000                                            # Intial condition, charge at x = 0.
    "u0 = -1*n0*np.sqrt(b)                                 # Charge-distribution profile considering 1D diffusion of charges
    "#print(np.sqrt(100))\n",
    "dx = L/num\n",
    "u = np.zeros(num)\n",
    "n = np.zeros(num)\n",
    "x = np.linspace(dx/2, L-dx/2, num)\n",
    "u[0] = u0\n",
    "n[0] = n0\n",
    "#print(u[0])\n",
    "\n",
    "\n",
    "for i in range(1, num):\n",
    "    k1 = dx*u[i-1]\n",
    "    l1 = dx*b*n[i-1]\n",
    "    k2 = dx*(u[i-1] + l1)\n",
    "    l2 = dx*b*(n[i-1] + k1)\n",
    "    k3 = dx*(u[i-1]+ (3*l1 + l2)/8)\n",
    "    l3 = dx*b*(n[i-1]+ (3*k1 + k2)/8)\n",
    "    k4 = dx*(u[i-1]+(8*l1 + 2*l2 + 8*l3)/27)\n",
    "    l4 = dx*b*(n[i-1]+(8*k1 + 2*k2 + 8*k3)/27)\n",
    "    k5 = dx*(u[i-1] + (3*(3*21**0.5-7)*l1 - 8*(7-21**0.5)*l2 + 48*(7-21**0.5)*l3 - 3*(21-21**0.5)*l4)/392 )\n",
    "    l5 = dx*b*(n[i-1] + (3*(3*21**0.5-7)*k1 - 8*(7-21**0.5)*k2 + 48*(7-21**0.5)*k3 - 3*(21-21**0.5)*k4)/392 )\n",
    "    k6 = dx*(u[i-1] + (-5*(231+51*21**0.5)*l1 - 40*(7+21**0.5)*l2 -320*21**0.5*l3 + 3*(21 + 121*21**0.5)*l4 + 392*(6+21**0.5)*l5)/1960)\n",
    "    l6 = dx*b*(n[i-1] + (-5*(231+51*21**0.5)*k1 - 40*(7+21**0.5)*k2 -320*21**0.5*k3 + 3*(21 + 121*21**0.5)*k4 + 392*(6+21**0.5)*k5)/1960)\n",
    "    k7 = dx*(u[i-1] + (15*(22+7*21**0.5)*l1 + 120*l2 + 40*(7*21**0.5 - 5)*l3 -63*(3*21**0.5-2)*l4 -14*(49 + 9*21**0.5)*l5 + 70*(7-21**0.5)*l6)/180)\n",
    "    l7 = dx*b*(n[i-1] + (15*(22+7*21**0.5)*k1 + 120*k2 + 40*(7*21**0.5 - 5)*k3 -63*(3*21**0.5-2)*k4 -14*(49 + 9*21**0.5)*k5 + 70*(7-21**0.5)*k6)/180)\n",
    "   \n",
    "\n",
    "    n[i] = n[i-1] + 1/180*(9*k1 + 64*k3 + 49*k5 + 49*k6 + 9*k7)\n",
    "    u[i] = u[i-1] + 1/180*(9*l1 + 64*l3 + 49*l5 + 49*l6 + 9*l7)\n",
    "    #print(p[i],u[i])\n",
    "    \n",
    "    \n",
    "#print(u[0])\n",
    "fig=plt.figure(1)\n",
    "plt.plot(x,n)\n",
    "plt.axis([-0.01*L,L,-0.1*n0,1.1*n0])\n",
    "plt.xlabel(\"distance\")\n",
    "plt.ylabel(\"charge\")\n",
    "plt.show() \n"
   ]
  }
 ],
 "metadata": {
  "kernelspec": {
   "display_name": "Python 3 (ipykernel)",
   "language": "python",
   "name": "python3"
  },
  "language_info": {
   "codemirror_mode": {
    "name": "ipython",
    "version": 3
   },
   "file_extension": ".py",
   "mimetype": "text/x-python",
   "name": "python",
   "nbconvert_exporter": "python",
   "pygments_lexer": "ipython3",
   "version": "3.9.7"
  }
 },
 "nbformat": 4,
 "nbformat_minor": 2
}
